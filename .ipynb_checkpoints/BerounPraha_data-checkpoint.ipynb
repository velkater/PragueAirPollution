{
 "cells": [
  {
   "cell_type": "code",
   "execution_count": 4,
   "metadata": {
    "collapsed": false
   },
   "outputs": [],
   "source": [
    "import urllib.request\n",
    "from bs4 import BeautifulSoup\n",
    "import re\n",
    "import datetime\n",
    "import time\n",
    "import itertools"
   ]
  },
  {
   "cell_type": "code",
   "execution_count": 5,
   "metadata": {
    "collapsed": true
   },
   "outputs": [],
   "source": [
    "def pollution_check(timestamp):\n",
    "    url = 'http://portal.chmi.cz/files/portal/docs/uoco/web_generator/actual_hour_data_CZ.html'\n",
    "    with urllib.request.urlopen(url) as response:\n",
    "        s = response.read()\n",
    "\n",
    "    soup = BeautifulSoup(s, 'html.parser')\n",
    "    measurements_all = soup.find_all('tr', 'list-row-odd')[:15]\n",
    "\n",
    "    for i in [0,1,2,3,8,14]:\n",
    "        measurement = measurements_all[i]\n",
    "        values = measurement.find_all('td')[-8:]\n",
    "        extracted = [m.string.replace(\",\", \".\") if m.string != None else 'None' for m in values]\n",
    "        extracted = extracted[0:5] + extracted[-1:]\n",
    "        extracted = ','.join(extracted)\n",
    "        text = list(measurement.stripped_strings)\n",
    "        print(text)\n",
    "        with open(text[0]+\".csv\", 'a') as out:\n",
    "            # Date, Time, Day in week, Place, Index of pollution,\n",
    "            # SO_2, NO_2, CO, PM_10, O3, PM_2.5\n",
    "            s = str(datetime.date.today()) + \",\" + \\\n",
    "            str(timestamp) + \",\" + \\\n",
    "            datetime.date.today().strftime('%A') + \",\" +  \\\n",
    "            text[1]+ \\\n",
    "            \",\" + re.findall('\\d+', text[4])[0] + \",\" + \\\n",
    "            extracted + \"\\n\" \n",
    "            out.write(s)\n",
    "            print(s)"
   ]
  },
  {
   "cell_type": "code",
   "execution_count": 6,
   "metadata": {
    "collapsed": false
   },
   "outputs": [],
   "source": [
    "times = [datetime.time(i, 0) for i in range(9,21)]"
   ]
  },
  {
   "cell_type": "code",
   "execution_count": 2,
   "metadata": {
    "collapsed": false
   },
   "outputs": [
    {
     "ename": "NameError",
     "evalue": "name 'times' is not defined",
     "output_type": "error",
     "traceback": [
      "\u001b[0;31m---------------------------------------------------------------------------\u001b[0m",
      "\u001b[0;31mNameError\u001b[0m                                 Traceback (most recent call last)",
      "\u001b[0;32m<ipython-input-2-5a1a7df7f053>\u001b[0m in \u001b[0;36m<module>\u001b[0;34m()\u001b[0m\n\u001b[1;32m      1\u001b[0m \u001b[0mi\u001b[0m \u001b[0;34m=\u001b[0m \u001b[0;36m0\u001b[0m\u001b[0;34m\u001b[0m\u001b[0m\n\u001b[0;32m----> 2\u001b[0;31m \u001b[0;32mwhile\u001b[0m \u001b[0mi\u001b[0m \u001b[0;34m<\u001b[0m \u001b[0mlen\u001b[0m\u001b[0;34m(\u001b[0m\u001b[0mtimes\u001b[0m\u001b[0;34m)\u001b[0m\u001b[0;34m:\u001b[0m\u001b[0;34m\u001b[0m\u001b[0m\n\u001b[0m\u001b[1;32m      3\u001b[0m     \u001b[0mnexttime\u001b[0m \u001b[0;34m=\u001b[0m \u001b[0mtimes\u001b[0m\u001b[0;34m[\u001b[0m\u001b[0mi\u001b[0m\u001b[0;34m]\u001b[0m\u001b[0;34m\u001b[0m\u001b[0m\n\u001b[1;32m      4\u001b[0m     \u001b[0;32mif\u001b[0m \u001b[0mdatetime\u001b[0m\u001b[0;34m.\u001b[0m\u001b[0mdatetime\u001b[0m\u001b[0;34m.\u001b[0m\u001b[0mnow\u001b[0m\u001b[0;34m(\u001b[0m\u001b[0;34m)\u001b[0m\u001b[0;34m.\u001b[0m\u001b[0mtime\u001b[0m\u001b[0;34m(\u001b[0m\u001b[0;34m)\u001b[0m \u001b[0;34m<\u001b[0m \u001b[0mnexttime\u001b[0m\u001b[0;34m:\u001b[0m\u001b[0;34m\u001b[0m\u001b[0m\n\u001b[1;32m      5\u001b[0m         \u001b[0mtime\u001b[0m\u001b[0;34m.\u001b[0m\u001b[0msleep\u001b[0m\u001b[0;34m(\u001b[0m\u001b[0;36m10\u001b[0m\u001b[0;34m)\u001b[0m\u001b[0;34m\u001b[0m\u001b[0m\n",
      "\u001b[0;31mNameError\u001b[0m: name 'times' is not defined"
     ]
    }
   ],
   "source": [
    "i = 0\n",
    "while i < len(times):\n",
    "    nexttime = times[i]\n",
    "    if datetime.datetime.now().time() < nexttime:\n",
    "        time.sleep(10)\n",
    "    else:\n",
    "        pollution_check(nexttime)\n",
    "        i = i + 1            \n",
    "        #print('\\n')"
   ]
  },
  {
   "cell_type": "code",
   "execution_count": null,
   "metadata": {
    "collapsed": true
   },
   "outputs": [],
   "source": []
  }
 ],
 "metadata": {
  "kernelspec": {
   "display_name": "Python 3",
   "language": "python",
   "name": "python3"
  },
  "language_info": {
   "codemirror_mode": {
    "name": "ipython",
    "version": 3
   },
   "file_extension": ".py",
   "mimetype": "text/x-python",
   "name": "python",
   "nbconvert_exporter": "python",
   "pygments_lexer": "ipython3",
   "version": "3.5.2"
  }
 },
 "nbformat": 4,
 "nbformat_minor": 2
}
